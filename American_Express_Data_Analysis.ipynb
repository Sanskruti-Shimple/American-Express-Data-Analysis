{
  "nbformat": 4,
  "nbformat_minor": 0,
  "metadata": {
    "colab": {
      "provenance": []
    },
    "kernelspec": {
      "name": "python3",
      "display_name": "Python 3"
    },
    "language_info": {
      "name": "python"
    }
  },
  "cells": [
    {
      "cell_type": "code",
      "execution_count": 1,
      "metadata": {
        "id": "C_UjPK4pr6pE"
      },
      "outputs": [],
      "source": [
        "import numpy as np\n",
        "import pandas as pd\n",
        "import tensorflow as tf\n",
        "from sklearn.preprocessing import LabelEncoder, OneHotEncoder, StandardScaler\n",
        "from sklearn.compose import ColumnTransformer\n",
        "from sklearn.model_selection import train_test_split\n",
        "from sklearn.metrics import confusion_matrix, accuracy_score"
      ]
    },
    {
      "cell_type": "code",
      "source": [
        "# Load the dataset\n",
        "dataset = pd.read_csv('American Express User Exit Prediction.csv')"
      ],
      "metadata": {
        "id": "n0msmtvesCHs"
      },
      "execution_count": 2,
      "outputs": []
    },
    {
      "cell_type": "code",
      "source": [
        "# Separate features (x) and target (y)\n",
        "x = dataset.iloc[:, 0:-1].values\n",
        "y = dataset.iloc[:, -1].values"
      ],
      "metadata": {
        "id": "3UtlGx0isHH1"
      },
      "execution_count": 3,
      "outputs": []
    },
    {
      "cell_type": "code",
      "source": [
        "# Encode categorical data\n",
        "label_encoder = LabelEncoder()\n",
        "x[:, 2] = label_encoder.fit_transform(x[:, 2])"
      ],
      "metadata": {
        "id": "WxxyoUwmsMwG"
      },
      "execution_count": 4,
      "outputs": []
    },
    {
      "cell_type": "code",
      "source": [
        "# One-hot encode categorical data\n",
        "ct = ColumnTransformer(transformers=[('encoder', OneHotEncoder(), [1])], remainder='passthrough')\n",
        "x = np.array(ct.fit_transform(x))"
      ],
      "metadata": {
        "id": "beuWMd4AsQDZ"
      },
      "execution_count": 5,
      "outputs": []
    },
    {
      "cell_type": "code",
      "source": [
        "# Split the dataset into training and testing sets\n",
        "x_train, x_test, y_train, y_test = train_test_split(x, y, test_size=0.2, random_state=0)"
      ],
      "metadata": {
        "id": "OaIFI9LxsUJi"
      },
      "execution_count": 6,
      "outputs": []
    },
    {
      "cell_type": "code",
      "source": [
        "# Standardize features\n",
        "sc = StandardScaler()\n",
        "x_train = sc.fit_transform(x_train)\n",
        "x_test = sc.transform(x_test)"
      ],
      "metadata": {
        "id": "cyUC7xJVsW32"
      },
      "execution_count": 7,
      "outputs": []
    },
    {
      "cell_type": "code",
      "source": [
        "# Build the neural network model\n",
        "ann = tf.keras.models.Sequential()\n",
        "ann.add(tf.keras.layers.Dense(units=5, activation='relu'))\n",
        "ann.add(tf.keras.layers.Dense(units=5, activation='relu'))\n",
        "ann.add(tf.keras.layers.Dense(units=1, activation='sigmoid'))"
      ],
      "metadata": {
        "id": "fkW1XiG2sZYv"
      },
      "execution_count": 8,
      "outputs": []
    },
    {
      "cell_type": "code",
      "source": [
        "# Compile the model\n",
        "ann.compile(optimizer='adam', loss='binary_crossentropy', metrics=['accuracy'])"
      ],
      "metadata": {
        "id": "Zv5Eb-SEsc3e"
      },
      "execution_count": 9,
      "outputs": []
    },
    {
      "cell_type": "code",
      "source": [
        "# Train the model\n",
        "ann.fit(x_train, y_train, batch_size=32, epochs=120)"
      ],
      "metadata": {
        "colab": {
          "base_uri": "https://localhost:8080/"
        },
        "id": "AYIqm3uzse0R",
        "outputId": "53b4d690-d4d8-434e-9f52-06accf709c7c"
      },
      "execution_count": 10,
      "outputs": [
        {
          "output_type": "stream",
          "name": "stdout",
          "text": [
            "Epoch 1/120\n",
            "249/249 [==============================] - 2s 2ms/step - loss: nan - accuracy: 0.7937\n",
            "Epoch 2/120\n",
            "249/249 [==============================] - 1s 2ms/step - loss: nan - accuracy: 0.7937\n",
            "Epoch 3/120\n",
            "249/249 [==============================] - 1s 2ms/step - loss: nan - accuracy: 0.7937\n",
            "Epoch 4/120\n",
            "249/249 [==============================] - 1s 2ms/step - loss: nan - accuracy: 0.7937\n",
            "Epoch 5/120\n",
            "249/249 [==============================] - 0s 2ms/step - loss: nan - accuracy: 0.7937\n",
            "Epoch 6/120\n",
            "249/249 [==============================] - 1s 2ms/step - loss: nan - accuracy: 0.7937\n",
            "Epoch 7/120\n",
            "249/249 [==============================] - 1s 2ms/step - loss: nan - accuracy: 0.7937\n",
            "Epoch 8/120\n",
            "249/249 [==============================] - 1s 2ms/step - loss: nan - accuracy: 0.7937\n",
            "Epoch 9/120\n",
            "249/249 [==============================] - 0s 2ms/step - loss: nan - accuracy: 0.7937\n",
            "Epoch 10/120\n",
            "249/249 [==============================] - 0s 2ms/step - loss: nan - accuracy: 0.7937\n",
            "Epoch 11/120\n",
            "249/249 [==============================] - 0s 2ms/step - loss: nan - accuracy: 0.7937\n",
            "Epoch 12/120\n",
            "249/249 [==============================] - 1s 3ms/step - loss: nan - accuracy: 0.7937\n",
            "Epoch 13/120\n",
            "249/249 [==============================] - 1s 3ms/step - loss: nan - accuracy: 0.7937\n",
            "Epoch 14/120\n",
            "249/249 [==============================] - 1s 3ms/step - loss: nan - accuracy: 0.7937\n",
            "Epoch 15/120\n",
            "249/249 [==============================] - 1s 3ms/step - loss: nan - accuracy: 0.7937\n",
            "Epoch 16/120\n",
            "249/249 [==============================] - 1s 3ms/step - loss: nan - accuracy: 0.7937\n",
            "Epoch 17/120\n",
            "249/249 [==============================] - 1s 3ms/step - loss: nan - accuracy: 0.7937\n",
            "Epoch 18/120\n",
            "249/249 [==============================] - 1s 2ms/step - loss: nan - accuracy: 0.7937\n",
            "Epoch 19/120\n",
            "249/249 [==============================] - 0s 2ms/step - loss: nan - accuracy: 0.7937\n",
            "Epoch 20/120\n",
            "249/249 [==============================] - 1s 2ms/step - loss: nan - accuracy: 0.7937\n",
            "Epoch 21/120\n",
            "249/249 [==============================] - 1s 2ms/step - loss: nan - accuracy: 0.7937\n",
            "Epoch 22/120\n",
            "249/249 [==============================] - 1s 2ms/step - loss: nan - accuracy: 0.7937\n",
            "Epoch 23/120\n",
            "249/249 [==============================] - 1s 2ms/step - loss: nan - accuracy: 0.7937\n",
            "Epoch 24/120\n",
            "249/249 [==============================] - 1s 2ms/step - loss: nan - accuracy: 0.7937\n",
            "Epoch 25/120\n",
            "249/249 [==============================] - 0s 2ms/step - loss: nan - accuracy: 0.7937\n",
            "Epoch 26/120\n",
            "249/249 [==============================] - 1s 2ms/step - loss: nan - accuracy: 0.7937\n",
            "Epoch 27/120\n",
            "249/249 [==============================] - 1s 2ms/step - loss: nan - accuracy: 0.7937\n",
            "Epoch 28/120\n",
            "249/249 [==============================] - 1s 2ms/step - loss: nan - accuracy: 0.7937\n",
            "Epoch 29/120\n",
            "249/249 [==============================] - 1s 2ms/step - loss: nan - accuracy: 0.7937\n",
            "Epoch 30/120\n",
            "249/249 [==============================] - 1s 2ms/step - loss: nan - accuracy: 0.7937\n",
            "Epoch 31/120\n",
            "249/249 [==============================] - 0s 2ms/step - loss: nan - accuracy: 0.7937\n",
            "Epoch 32/120\n",
            "249/249 [==============================] - 1s 2ms/step - loss: nan - accuracy: 0.7937\n",
            "Epoch 33/120\n",
            "249/249 [==============================] - 1s 2ms/step - loss: nan - accuracy: 0.7937\n",
            "Epoch 34/120\n",
            "249/249 [==============================] - 1s 2ms/step - loss: nan - accuracy: 0.7937\n",
            "Epoch 35/120\n",
            "249/249 [==============================] - 0s 2ms/step - loss: nan - accuracy: 0.7937\n",
            "Epoch 36/120\n",
            "249/249 [==============================] - 1s 3ms/step - loss: nan - accuracy: 0.7937\n",
            "Epoch 37/120\n",
            "249/249 [==============================] - 1s 3ms/step - loss: nan - accuracy: 0.7937\n",
            "Epoch 38/120\n",
            "249/249 [==============================] - 1s 3ms/step - loss: nan - accuracy: 0.7937\n",
            "Epoch 39/120\n",
            "249/249 [==============================] - 1s 3ms/step - loss: nan - accuracy: 0.7937\n",
            "Epoch 40/120\n",
            "249/249 [==============================] - 1s 3ms/step - loss: nan - accuracy: 0.7937\n",
            "Epoch 41/120\n",
            "249/249 [==============================] - 1s 2ms/step - loss: nan - accuracy: 0.7937\n",
            "Epoch 42/120\n",
            "249/249 [==============================] - 1s 2ms/step - loss: nan - accuracy: 0.7937\n",
            "Epoch 43/120\n",
            "249/249 [==============================] - 0s 2ms/step - loss: nan - accuracy: 0.7937\n",
            "Epoch 44/120\n",
            "249/249 [==============================] - 1s 2ms/step - loss: nan - accuracy: 0.7937\n",
            "Epoch 45/120\n",
            "249/249 [==============================] - 1s 2ms/step - loss: nan - accuracy: 0.7937\n",
            "Epoch 46/120\n",
            "249/249 [==============================] - 0s 2ms/step - loss: nan - accuracy: 0.7937\n",
            "Epoch 47/120\n",
            "249/249 [==============================] - 1s 2ms/step - loss: nan - accuracy: 0.7937\n",
            "Epoch 48/120\n",
            "249/249 [==============================] - 1s 2ms/step - loss: nan - accuracy: 0.7937\n",
            "Epoch 49/120\n",
            "249/249 [==============================] - 1s 2ms/step - loss: nan - accuracy: 0.7937\n",
            "Epoch 50/120\n",
            "249/249 [==============================] - 1s 2ms/step - loss: nan - accuracy: 0.7937\n",
            "Epoch 51/120\n",
            "249/249 [==============================] - 1s 2ms/step - loss: nan - accuracy: 0.7937\n",
            "Epoch 52/120\n",
            "249/249 [==============================] - 1s 2ms/step - loss: nan - accuracy: 0.7937\n",
            "Epoch 53/120\n",
            "249/249 [==============================] - 1s 2ms/step - loss: nan - accuracy: 0.7937\n",
            "Epoch 54/120\n",
            "249/249 [==============================] - 1s 2ms/step - loss: nan - accuracy: 0.7937\n",
            "Epoch 55/120\n",
            "249/249 [==============================] - 1s 2ms/step - loss: nan - accuracy: 0.7937\n",
            "Epoch 56/120\n",
            "249/249 [==============================] - 1s 2ms/step - loss: nan - accuracy: 0.7937\n",
            "Epoch 57/120\n",
            "249/249 [==============================] - 1s 2ms/step - loss: nan - accuracy: 0.7937\n",
            "Epoch 58/120\n",
            "249/249 [==============================] - 1s 2ms/step - loss: nan - accuracy: 0.7937\n",
            "Epoch 59/120\n",
            "249/249 [==============================] - 1s 2ms/step - loss: nan - accuracy: 0.7937\n",
            "Epoch 60/120\n",
            "249/249 [==============================] - 1s 3ms/step - loss: nan - accuracy: 0.7937\n",
            "Epoch 61/120\n",
            "249/249 [==============================] - 1s 3ms/step - loss: nan - accuracy: 0.7937\n",
            "Epoch 62/120\n",
            "249/249 [==============================] - 1s 3ms/step - loss: nan - accuracy: 0.7937\n",
            "Epoch 63/120\n",
            "249/249 [==============================] - 1s 3ms/step - loss: nan - accuracy: 0.7937\n",
            "Epoch 64/120\n",
            "249/249 [==============================] - 1s 3ms/step - loss: nan - accuracy: 0.7937\n",
            "Epoch 65/120\n",
            "249/249 [==============================] - 1s 2ms/step - loss: nan - accuracy: 0.7937\n",
            "Epoch 66/120\n",
            "249/249 [==============================] - 1s 2ms/step - loss: nan - accuracy: 0.7937\n",
            "Epoch 67/120\n",
            "249/249 [==============================] - 1s 2ms/step - loss: nan - accuracy: 0.7937\n",
            "Epoch 68/120\n",
            "249/249 [==============================] - 1s 2ms/step - loss: nan - accuracy: 0.7937\n",
            "Epoch 69/120\n",
            "249/249 [==============================] - 1s 2ms/step - loss: nan - accuracy: 0.7937\n",
            "Epoch 70/120\n",
            "249/249 [==============================] - 0s 2ms/step - loss: nan - accuracy: 0.7937\n",
            "Epoch 71/120\n",
            "249/249 [==============================] - 1s 2ms/step - loss: nan - accuracy: 0.7937\n",
            "Epoch 72/120\n",
            "249/249 [==============================] - 1s 2ms/step - loss: nan - accuracy: 0.7937\n",
            "Epoch 73/120\n",
            "249/249 [==============================] - 1s 2ms/step - loss: nan - accuracy: 0.7937\n",
            "Epoch 74/120\n",
            "249/249 [==============================] - 1s 2ms/step - loss: nan - accuracy: 0.7937\n",
            "Epoch 75/120\n",
            "249/249 [==============================] - 0s 2ms/step - loss: nan - accuracy: 0.7937\n",
            "Epoch 76/120\n",
            "249/249 [==============================] - 0s 2ms/step - loss: nan - accuracy: 0.7937\n",
            "Epoch 77/120\n",
            "249/249 [==============================] - 1s 2ms/step - loss: nan - accuracy: 0.7937\n",
            "Epoch 78/120\n",
            "249/249 [==============================] - 0s 2ms/step - loss: nan - accuracy: 0.7937\n",
            "Epoch 79/120\n",
            "249/249 [==============================] - 1s 2ms/step - loss: nan - accuracy: 0.7937\n",
            "Epoch 80/120\n",
            "249/249 [==============================] - 1s 2ms/step - loss: nan - accuracy: 0.7937\n",
            "Epoch 81/120\n",
            "249/249 [==============================] - 0s 2ms/step - loss: nan - accuracy: 0.7937\n",
            "Epoch 82/120\n",
            "249/249 [==============================] - 1s 2ms/step - loss: nan - accuracy: 0.7937\n",
            "Epoch 83/120\n",
            "249/249 [==============================] - 1s 2ms/step - loss: nan - accuracy: 0.7937\n",
            "Epoch 84/120\n",
            "249/249 [==============================] - 1s 3ms/step - loss: nan - accuracy: 0.7937\n",
            "Epoch 85/120\n",
            "249/249 [==============================] - 1s 3ms/step - loss: nan - accuracy: 0.7937\n",
            "Epoch 86/120\n",
            "249/249 [==============================] - 1s 3ms/step - loss: nan - accuracy: 0.7937\n",
            "Epoch 87/120\n",
            "249/249 [==============================] - 1s 3ms/step - loss: nan - accuracy: 0.7937\n",
            "Epoch 88/120\n",
            "249/249 [==============================] - 1s 3ms/step - loss: nan - accuracy: 0.7937\n",
            "Epoch 89/120\n",
            "249/249 [==============================] - 1s 2ms/step - loss: nan - accuracy: 0.7937\n",
            "Epoch 90/120\n",
            "249/249 [==============================] - 0s 2ms/step - loss: nan - accuracy: 0.7937\n",
            "Epoch 91/120\n",
            "249/249 [==============================] - 0s 2ms/step - loss: nan - accuracy: 0.7937\n",
            "Epoch 92/120\n",
            "249/249 [==============================] - 1s 2ms/step - loss: nan - accuracy: 0.7937\n",
            "Epoch 93/120\n",
            "249/249 [==============================] - 1s 2ms/step - loss: nan - accuracy: 0.7937\n",
            "Epoch 94/120\n",
            "249/249 [==============================] - 1s 2ms/step - loss: nan - accuracy: 0.7937\n",
            "Epoch 95/120\n",
            "249/249 [==============================] - 1s 2ms/step - loss: nan - accuracy: 0.7937\n",
            "Epoch 96/120\n",
            "249/249 [==============================] - 0s 2ms/step - loss: nan - accuracy: 0.7937\n",
            "Epoch 97/120\n",
            "249/249 [==============================] - 1s 2ms/step - loss: nan - accuracy: 0.7937\n",
            "Epoch 98/120\n",
            "249/249 [==============================] - 0s 2ms/step - loss: nan - accuracy: 0.7937\n",
            "Epoch 99/120\n",
            "249/249 [==============================] - 1s 2ms/step - loss: nan - accuracy: 0.7937\n",
            "Epoch 100/120\n",
            "249/249 [==============================] - 1s 2ms/step - loss: nan - accuracy: 0.7937\n",
            "Epoch 101/120\n",
            "249/249 [==============================] - 0s 2ms/step - loss: nan - accuracy: 0.7937\n",
            "Epoch 102/120\n",
            "249/249 [==============================] - 0s 2ms/step - loss: nan - accuracy: 0.7937\n",
            "Epoch 103/120\n",
            "249/249 [==============================] - 0s 2ms/step - loss: nan - accuracy: 0.7937\n",
            "Epoch 104/120\n",
            "249/249 [==============================] - 0s 2ms/step - loss: nan - accuracy: 0.7937\n",
            "Epoch 105/120\n",
            "249/249 [==============================] - 1s 2ms/step - loss: nan - accuracy: 0.7937\n",
            "Epoch 106/120\n",
            "249/249 [==============================] - 1s 2ms/step - loss: nan - accuracy: 0.7937\n",
            "Epoch 107/120\n",
            "249/249 [==============================] - 1s 2ms/step - loss: nan - accuracy: 0.7937\n",
            "Epoch 108/120\n",
            "249/249 [==============================] - 1s 2ms/step - loss: nan - accuracy: 0.7937\n",
            "Epoch 109/120\n",
            "249/249 [==============================] - 1s 3ms/step - loss: nan - accuracy: 0.7937\n",
            "Epoch 110/120\n",
            "249/249 [==============================] - 1s 3ms/step - loss: nan - accuracy: 0.7937\n",
            "Epoch 111/120\n",
            "249/249 [==============================] - 1s 3ms/step - loss: nan - accuracy: 0.7937\n",
            "Epoch 112/120\n",
            "249/249 [==============================] - 1s 3ms/step - loss: nan - accuracy: 0.7937\n",
            "Epoch 113/120\n",
            "249/249 [==============================] - 1s 3ms/step - loss: nan - accuracy: 0.7937\n",
            "Epoch 114/120\n",
            "249/249 [==============================] - 0s 2ms/step - loss: nan - accuracy: 0.7937\n",
            "Epoch 115/120\n",
            "249/249 [==============================] - 0s 2ms/step - loss: nan - accuracy: 0.7937\n",
            "Epoch 116/120\n",
            "249/249 [==============================] - 1s 2ms/step - loss: nan - accuracy: 0.7937\n",
            "Epoch 117/120\n",
            "249/249 [==============================] - 0s 2ms/step - loss: nan - accuracy: 0.7937\n",
            "Epoch 118/120\n",
            "249/249 [==============================] - 1s 2ms/step - loss: nan - accuracy: 0.7937\n",
            "Epoch 119/120\n",
            "249/249 [==============================] - 1s 2ms/step - loss: nan - accuracy: 0.7937\n",
            "Epoch 120/120\n",
            "249/249 [==============================] - 1s 2ms/step - loss: nan - accuracy: 0.7937\n"
          ]
        },
        {
          "output_type": "execute_result",
          "data": {
            "text/plain": [
              "<keras.src.callbacks.History at 0x7ddb640bcb20>"
            ]
          },
          "metadata": {},
          "execution_count": 10
        }
      ]
    },
    {
      "cell_type": "code",
      "source": [
        "# Identify and remove rows with NaN values in y_test\n",
        "nan_indices = np.isnan(y_test)\n",
        "y_test_cleaned = y_test[~nan_indices]\n",
        "x_test_cleaned = x_test[~nan_indices]"
      ],
      "metadata": {
        "id": "qL6EO7RCsiRY"
      },
      "execution_count": 11,
      "outputs": []
    },
    {
      "cell_type": "code",
      "source": [
        "# Make predictions using your neural network model\n",
        "y_pred = ann.predict(x_test_cleaned) > 0.5"
      ],
      "metadata": {
        "colab": {
          "base_uri": "https://localhost:8080/"
        },
        "id": "bdPzVX5pskLk",
        "outputId": "32217ac5-9c77-44ab-9c7c-be8608bac7d2"
      },
      "execution_count": 12,
      "outputs": [
        {
          "output_type": "stream",
          "name": "stdout",
          "text": [
            "63/63 [==============================] - 0s 1ms/step\n"
          ]
        }
      ]
    },
    {
      "cell_type": "code",
      "source": [
        "# Calculate confusion matrix and accuracy score\n",
        "cm = confusion_matrix(y_test_cleaned, y_pred)\n",
        "accuracy = accuracy_score(y_test_cleaned, y_pred)\n",
        "\n",
        "print(\"Confusion Matrix:\")\n",
        "print(cm)\n",
        "print(\"Accuracy:\", accuracy)"
      ],
      "metadata": {
        "colab": {
          "base_uri": "https://localhost:8080/"
        },
        "id": "YGUXCQnosl5c",
        "outputId": "14534bca-2259-4a24-ed48-e5c842998a1b"
      },
      "execution_count": 13,
      "outputs": [
        {
          "output_type": "stream",
          "name": "stdout",
          "text": [
            "Confusion Matrix:\n",
            "[[1595    0]\n",
            " [ 390    0]]\n",
            "Accuracy: 0.8035264483627204\n"
          ]
        }
      ]
    }
  ]
}